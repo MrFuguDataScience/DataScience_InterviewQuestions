{
 "cells": [
  {
   "cell_type": "markdown",
   "metadata": {},
   "source": [
    "# `10 More (Real) Data Science Interview Questions`\n",
    "\n",
    "<font color=red> Mr Fugu Data Science</font>\n",
    "\n",
    "\n",
    "# (◕‿◕✿)\n",
    "\n",
    "\n",
    "\n",
    "`----------------------------------------`"
   ]
  },
  {
   "cell_type": "markdown",
   "metadata": {},
   "source": [
    "# 1.) In a `Random Forest` classifier, which of the following choices involves randomness?\n",
    "\n",
    "**`Choose Answer[s]:`**\n",
    "\n",
    "+ Choosing which trees to discard during inference\n",
    "\n",
    "+ Choosing which loss function to use\n",
    "\n",
    "+ Choosing which subset of features to use for a given tree\n",
    "\n",
    "+ Choosing which branch to follow at a given node"
   ]
  },
  {
   "cell_type": "markdown",
   "metadata": {},
   "source": [
    "**`Work Through It`**:\n",
    "\n",
    "What is a `Random Forest Classifier`?\n",
    "\n",
    "+ It is a machine learning algorithm; in a simple explanation you are building multiple decision trees and then merging them to create a more accurate and stable model. \n",
    "\n",
    "    + Can be used for Classification and Regression\n",
    "    + Understand also, this is a predictive tool NOT a descriptive tool\n",
    "    + fairly robust against overfitting unlike decision trees. Due mostly to the use of randomly selected features. \n",
    "\n",
    "+ Instead of looking for a specific or most important node, you will instead look at random subsets of your features. \n",
    "\n",
    "+ The random forest is built from decision trees; each tree is built from random features that are selected. Note: not all trees see all the selected features or even observations. This will help because you are trying to avoid correlelation and therefore overfitting.\n",
    "\n",
    "https://towardsdatascience.com/feature-selection-using-random-forest-26d7b747597f"
   ]
  },
  {
   "cell_type": "markdown",
   "metadata": {},
   "source": [
    "# 2.) Which type of SQL join can result in more matching rows than in either input table?\n",
    "\n",
    "**`Choose Answer:`**\n",
    "\n",
    "+ Full Outer Join\n",
    "\n",
    "+ Right Join\n",
    "\n",
    "+ Inner Join\n",
    "\n",
    "+ Left Join"
   ]
  },
  {
   "cell_type": "markdown",
   "metadata": {},
   "source": [
    "`Work Through It`\n",
    "\n",
    "+ `Full Outer Join`: returns everything from left or right side if there is a match\n",
    "\n",
    "+ `Right Join`: returns everything from right table and anything else matched from left\n",
    "\n",
    "+ `Inner Join`: returns the intersection of both tables that match\n",
    "\n",
    "+ `Left Join`: returns everything from left table and anything else matched from right\n",
    "\n",
    "Now, what is our answer?\n",
    "\n",
    "*The question says (more matching) rows than you had initially.*\n",
    "\n",
    "If I am thinking of matching rows then I will not consider (Null) values. Therefore, while the Outer Join family will have more overall rows it will fail due to null values. \n",
    "\n",
    "`-------`\n",
    "\n",
    "My answer will be `Inner Join`\n",
    "\n",
    "https://en.wikipedia.org/wiki/Join_(SQL)"
   ]
  },
  {
   "cell_type": "markdown",
   "metadata": {},
   "source": [
    "# 3.) Which approaches would give the best tradeoff between *speed* and *accuracy* when calculating the product of many probabilities?\n",
    "\n",
    "\n",
    "**`Choose Answer:`**\n",
    "\n",
    "+ Use an arbitrary precision decimal type (think of Big-Int)\n",
    "\n",
    "+ Use a single-precision floating point (like float32)\n",
    "\n",
    "+ Use a Fourier transform trick\n",
    "\n",
    "+ Log-sum exponential trick"
   ]
  },
  {
   "cell_type": "markdown",
   "metadata": {},
   "source": [
    "`Work Through It`\n",
    "\n",
    "**Considerations Before Getting Started**\n",
    "\n",
    "+ Something to mention: adding probabilities is faster than multiplying them!\n",
    "    + Think of matrix multiplication, transformations\n",
    "    + If we are doing multiplications we have to think of $O(n^2)$ so if we had say 2, matrices of $10^3$ we would end up with $10^6$ operations. This is why algorithms were built to get lower than $O(n^2)$. Another, issue is the memory you have available. \n",
    "\n",
    "+ Also, we have to think about underflow issues when doing probabilities. This can be an issue with floating point numbers. \n",
    "\n",
    "Now: what are we noticing from the answers?\n",
    "+ **Well it appears that we are comparing**: \n",
    "\n",
    "1.) converting multiplications to additions (*`speed`*)\n",
    "\n",
    "2.) under/overflow. (*`accuracy`*)\n",
    "\n",
    "3.) Hardware vs Software implementing your calculations (*`for speed`*)\n",
    "\n",
    "If we notice this then there are some considerations that we should take into account.\n",
    "\n",
    "`-------------`\n",
    "\n",
    "+ `Log Sum Exp Trick`: This will allow us to convert multiplications to additions but we need to also consider underflow issue.\n",
    "\n",
    "+ `The float-32`: good for adding and slower with multiplications\n",
    "\n",
    "+ `Big Int`: generally good will multiplications but not additions\n",
    "\n",
    "+ `Fourier Transform Trick:` good for matrix multilpication, around $O(n log n)$ time. Great if you have large amounts of data if I am correct.\n",
    "\n",
    "\n",
    "https://cs.stackexchange.com/questions/77135/why-is-adding-log-probabilities-faster-than-multiplying-probabilities\n",
    "\n",
    "https://www.quantamagazine.org/the-math-behind-a-faster-multiplication-algorithm-20190923/\n",
    "\n",
    "http://www-personal.umich.edu/~mejn/cp/chapters/errors.pdf"
   ]
  },
  {
   "cell_type": "markdown",
   "metadata": {},
   "source": [
    "# 4.)  Can you compare a validation set with a test set?"
   ]
  },
  {
   "cell_type": "markdown",
   "metadata": {},
   "source": [
    "`Work Through It`\n",
    "\n",
    "+ The validation set is a subset of the original dataset. You are doing a train|validate|test.\n",
    "    + The validation set is used after your training the model to basically make adjustments and tune parameters. In this step you are trying to ajdust for overfitting.\n",
    "+ The test set is used to see how well your model performs. The test set will never have been seen by the model!\n",
    "    \n"
   ]
  },
  {
   "cell_type": "markdown",
   "metadata": {},
   "source": [
    "# 5.) Given streaming dataset (can only read once) due to size of file not fitting into memory. Which of the following statistics can be calculated?\n",
    "\n",
    "**`Choose Answer:`**\n",
    "\n",
    "+ Neither mean nor variance\n",
    "\n",
    "+ Mean, but not variance\n",
    "\n",
    "+ Both\n",
    "\n",
    "+ Variance but not mean\n",
    "\n",
    "+ who cares o_0"
   ]
  },
  {
   "cell_type": "markdown",
   "metadata": {},
   "source": [
    "`Work Through It`\n",
    "\n",
    "\n",
    "+ Welford Algorithm for rolling variance (one-pass) variance\n",
    "\n",
    "+ you can recursively, find the mean by comparing previous to current\n",
    "\n",
    "https://faithfull.me/recursive-statistics-for-data-streams/"
   ]
  },
  {
   "cell_type": "markdown",
   "metadata": {},
   "source": [
    "# 6.) What `assumptions` does Naive-Bayes algorithm make?\n",
    "\n",
    "**`Choose Answer:`**\n",
    "    \n",
    "+ Test data will be normally distributed\n",
    "\n",
    "+ Test data is linearly separable \n",
    "\n",
    "+ Input features are conditionally independent\n",
    "\n",
    "+ Input features are linearly independent"
   ]
  },
  {
   "cell_type": "markdown",
   "metadata": {},
   "source": [
    "`Work Through It`\n",
    "\n",
    "+ `Conditional Independence`: in order to reduce number of parameters\n"
   ]
  },
  {
   "cell_type": "markdown",
   "metadata": {},
   "source": [
    "# 7.) Reverse List:\n",
    "\n",
    "`\n",
    "def reverse_list(dta):\n",
    "    new_list = []\n",
    "    for i in range(len(dta)):\n",
    "         ---Place Code HERE\n",
    "    return new_list\n",
    "`\n",
    "\n",
    "**`Choose Answer:`**\n",
    "\n",
    "+ new_list.append( dta [ len( dta ) ] )\n",
    "\n",
    "+ new_list.append( dta [ i ] )\n",
    "\n",
    "+ new_list.append( dta [ len( dta )- i - 1] )\n",
    "\n",
    "+ new_list.append( dta [ len( dta )-1 ] )"
   ]
  },
  {
   "cell_type": "code",
   "execution_count": 8,
   "metadata": {},
   "outputs": [
    {
     "data": {
      "text/plain": [
       "[5, 4, 3, 2, 1]"
      ]
     },
     "execution_count": 8,
     "metadata": {},
     "output_type": "execute_result"
    }
   ],
   "source": [
    "def reverse_list(dta):\n",
    "    new_list = []\n",
    "    for i in range(len(dta)):\n",
    "        new_list.append(dta[ len( dta )-i - 1]) \n",
    "    return new_list\n",
    "\n",
    "reverse_list([1,2,3,4,5])"
   ]
  },
  {
   "cell_type": "markdown",
   "metadata": {},
   "source": [
    "# 8.) What are both of these queries acheiving?\n",
    "(*Think distiction*)\n",
    "\n",
    "`\n",
    "SELECT category, AVG (price)\n",
    "FROM products\n",
    "GROUP BY category`\n",
    "\n",
    "`SELECT category, AVG (price)\n",
    "OVER (PARTITION BY category)\n",
    "FROM products\n",
    "`\n",
    "\n",
    "+ The first computes the average price per category; while the second does not\n",
    "\n",
    "+ the first is not valid SQL, the second is\n",
    "\n",
    "+ The first returns unique categories; second may return duplicate categories\n",
    "\n",
    "+ first is less efficient to compute than second"
   ]
  },
  {
   "cell_type": "markdown",
   "metadata": {},
   "source": [
    "`Work Through It`\n",
    "\n",
    "+ `Group By`: commonly used for doing sums() and avg(), and will return less rows [*collapsed*]\n",
    "\n",
    "+ `Over Partition`: will not affect the number of rows [*perserved*]\n",
    "    + This is a window function: meaning that you are performing aggregate-like operations but producing a result for each row unlike the group by that will condense into a single row. \n",
    "\n",
    "https://dev.mysql.com/doc/refman/8.0/en/window-functions-usage.html"
   ]
  },
  {
   "cell_type": "markdown",
   "metadata": {},
   "source": [
    "# 9.) What is an `Activation Function` when doing Deep Learning such as Neural Networks?"
   ]
  },
  {
   "cell_type": "markdown",
   "metadata": {},
   "source": [
    "`Work Through It`\n",
    "\n",
    "+ Think of the `Activation Function` as a way to dictate if something turns on or not like a switch. This is done by using weighted sums and applying a bias term; this in term will introduce non-linearity to your neuron output. The output we receive will get updated depending on the weights and biases depending on the error we have. \n",
    "    + Since, this is a non-linear process we are able to learn complex tasks.\n",
    "+ Consider the input as a current neuron moving to the next layer; the neuron will reach the activation function and either be turned on or off.\n",
    "\n",
    "+ The types of Activation Functions are:\n",
    "    + Linear\n",
    "    + Non-Linear\n",
    "    \n",
    "https://medium.com/@snaily16/what-why-and-which-activation-functions-b2bf748c0441"
   ]
  },
  {
   "cell_type": "markdown",
   "metadata": {},
   "source": [
    "# 10.) What's wrong with this code block?\n",
    "\n",
    "`\n",
    "try:\n",
    "    file = open(filepath)\n",
    "    data = file.read()\n",
    "finally:\n",
    "    file.close()\n",
    "`\n",
    "\n",
    "**`Choose Answer:`**\n",
    "\n",
    "+ Not all bytes from the file are read\n",
    "\n",
    "+ The file may be closed before all data is read\n",
    "\n",
    "+ if opening the file fails, a different error code is raised\n",
    "\n",
    "+ if an error is raised, the file will remain open\n"
   ]
  },
  {
   "cell_type": "markdown",
   "metadata": {},
   "source": [
    "`Work It Through:`\n",
    "\n",
    "+ `if opening the file fails, a different error code is raised`\n",
    "\n",
    "This is because you will not have caught any errors; when you could have used this in either an `except or optional else clause`\n",
    "\n",
    "https://docs.python.org/3/tutorial/errors.html\n",
    "\n",
    "https://stackoverflow.com/questions/8774830/how-with-is-better-than-try-catch-to-open-a-file-in-python"
   ]
  },
  {
   "cell_type": "markdown",
   "metadata": {},
   "source": [
    "# `Bonus`: Which of the following expressions defines the variance of a random variable X?\n",
    "\n",
    "**`Choose Answer:`**\n",
    "\n",
    "+ $E[ X^2-E[X] ]$\n",
    "\n",
    "+ $E[X-E[X] ]$\n",
    "\n",
    "+ $E[ X-E[X] ]^2$\n",
    "\n",
    "+ $E[( X-E[X] )^2 ]$\n"
   ]
  },
  {
   "cell_type": "markdown",
   "metadata": {},
   "source": [
    "`------------------------------------`\n",
    "\n",
    "`Work Through It` (*discrete*)\n",
    "\n",
    "+ <font color=red>1.)</font>\n",
    "\n",
    "$E[X^2-E[X]] = E[X^2] -E[E[X]] $\n",
    "\n",
    "\n",
    "+ <font color=red>2.)</font>\n",
    "\n",
    "$E[ X - E[X]] = E[X] - E[ E[X] ] = 0 $\n",
    "\n",
    "`Now E[X] = `\n",
    "\n",
    "\n",
    "\n",
    "+ <font color=red>3.)</font>\n",
    "\n",
    "$E[ X - E[X]]^2 = E [[X - E[X]^2] - Var(X - E[X]) = Var(X) - Var(X) = 0$\n",
    "\n",
    "\n",
    "+ <font color=red>4.)</font> \n",
    "\n",
    "$Var(X) = \\sum(x-\\mu)^2 P(X)$\n",
    "\n",
    "$= \\sum(x^2-2 \\mu x+\\mu^2) P(X)$\n",
    "\n",
    "$= \\sum x^2 P(X) -2 \\mu \\sum x P(X) + \\mu^2 \\sum P(X)$\n",
    "\n",
    "`Now Substitute:` $\\mu = \\sum x P(X)$\n",
    "\n",
    "$= E[X^2] - 2 \\mu \\mu + \\mu^2 (1)$\n",
    "\n",
    "$= E[X^2] - \\mu^2$\n",
    "\n",
    "`Now:` $E[X]= \\mu$\n",
    "\n",
    "$= E[X^2] - E[X]^2$\n",
    "\n",
    "$= E[( X-E[X] )^2 ]$"
   ]
  },
  {
   "cell_type": "markdown",
   "metadata": {},
   "source": [
    "# Citations & Help:\n",
    "\n",
    "# ◔̯◔\n",
    "\n",
    "`Random Forest:`\n",
    "\n",
    "https://builtin.com/data-science/random-forest-algorithm\n",
    "\n",
    "https://medium.com/brillio-data-science/what-is-random-in-random-forest-7825be12c8c3\n",
    "\n",
    "https://link.springer.com/chapter/10.1007/11731139_12\n",
    "\n",
    "https://medium.com/analytics-vidhya/disclose-the-secret-of-randomness-in-random-forests-705eb751d4d7\n",
    "\n",
    "https://cfss.uchicago.edu/notes/decision-trees/ \n",
    "\n",
    "https://bradleyboehmke.github.io/HOML/random-forest.html\n",
    "\n",
    "https://scholar.smu.edu/cgi/viewcontent.cgi?article=1041&context=datasciencereview\n",
    "\n",
    "`SQL Joins:`\n",
    "\n",
    "https://www.w3schools.com/sql/sql_join.asp\n",
    "\n",
    "`Accuracy & Speed Tradeoff for Multiplying Probabilities:`\n",
    "\n",
    "https://docs.oracle.com/cd/E19957-01/806-3568/ncg_goldberg.html\n",
    "\n",
    "http://www.mikemeredith.net/blog/2017/UnderOverflow.htm\n",
    "\n",
    "https://blog.smola.org/post/987977550/log-probabilities-semirings-and-floating-point\n",
    "\n",
    "https://blog.feedly.com/tricks-of-the-trade-logsumexp/\n",
    "\n",
    "`Streaming Data:`\n",
    "\n",
    "http://www.nowozin.net/sebastian/blog/streaming-mean-and-variance-computation.html\n",
    "\n",
    "`Activation Function:`\n",
    "\n",
    "https://www.geeksforgeeks.org/activation-functions-neural-networks/#:~:text=Definition%20of%20activation%20function%3A%2D,the%20output%20of%20a%20neuron\n",
    "\n",
    "https://medium.com/the-theory-of-everything/understanding-activation-functions-in-neural-networks-9491262884e0\n",
    "\n",
    "`Group By & Partition Over:`\n",
    "\n",
    "https://stackoverflow.com/questions/2404565/sql-server-difference-between-partition-by-and-group-by#:~:text=A%20group%20by%20normally%20reduces,window%20function's%20result%20is%20calculated\n",
    "\n",
    "https://learnsql.com/blog/difference-between-group-by-partition-by/\n",
    "\n",
    "`Bonus Question:`\n",
    "\n",
    "https://www.statisticshowto.com/probability-and-statistics/expected-value/#:~:text=The%20basic%20expected%20value%20formula,(x)%20*%20n)\n",
    "\n",
    "http://www.milefoot.com/math/stat/rv-expvar.htm\n",
    "\n",
    "https://people.math.umass.edu/~lr7q/ps_files/teaching/math456/lecture16.pdf\n",
    "\n",
    "https://math.stackexchange.com/questions/920853/does-ex-ex-0\n",
    "\n",
    "https://www.youtube.com/watch?v=_dcyF_H2-r0"
   ]
  }
 ],
 "metadata": {
  "kernelspec": {
   "display_name": "Python 3",
   "language": "python",
   "name": "python3"
  },
  "language_info": {
   "codemirror_mode": {
    "name": "ipython",
    "version": 3
   },
   "file_extension": ".py",
   "mimetype": "text/x-python",
   "name": "python",
   "nbconvert_exporter": "python",
   "pygments_lexer": "ipython3",
   "version": "3.7.3"
  }
 },
 "nbformat": 4,
 "nbformat_minor": 4
}
